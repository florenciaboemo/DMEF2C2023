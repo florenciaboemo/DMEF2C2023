{
 "cells": [
  {
   "cell_type": "code",
   "execution_count": 1,
   "metadata": {
    "vscode": {
     "languageId": "r"
    }
   },
   "outputs": [
    {
     "data": {
      "text/html": [
       "<table class=\"dataframe\">\n",
       "<caption>A matrix: 2 × 6 of type dbl</caption>\n",
       "<thead>\n",
       "\t<tr><th></th><th scope=col>used</th><th scope=col>(Mb)</th><th scope=col>gc trigger</th><th scope=col>(Mb)</th><th scope=col>max used</th><th scope=col>(Mb)</th></tr>\n",
       "</thead>\n",
       "<tbody>\n",
       "\t<tr><th scope=row>Ncells</th><td> 627750</td><td>33.6</td><td>1404611</td><td>75.1</td><td>1024906</td><td>54.8</td></tr>\n",
       "\t<tr><th scope=row>Vcells</th><td>1150018</td><td> 8.8</td><td>8388608</td><td>64.0</td><td>1769151</td><td>13.5</td></tr>\n",
       "</tbody>\n",
       "</table>\n"
      ],
      "text/latex": [
       "A matrix: 2 × 6 of type dbl\n",
       "\\begin{tabular}{r|llllll}\n",
       "  & used & (Mb) & gc trigger & (Mb) & max used & (Mb)\\\\\n",
       "\\hline\n",
       "\tNcells &  627750 & 33.6 & 1404611 & 75.1 & 1024906 & 54.8\\\\\n",
       "\tVcells & 1150018 &  8.8 & 8388608 & 64.0 & 1769151 & 13.5\\\\\n",
       "\\end{tabular}\n"
      ],
      "text/markdown": [
       "\n",
       "A matrix: 2 × 6 of type dbl\n",
       "\n",
       "| <!--/--> | used | (Mb) | gc trigger | (Mb) | max used | (Mb) |\n",
       "|---|---|---|---|---|---|---|\n",
       "| Ncells |  627750 | 33.6 | 1404611 | 75.1 | 1024906 | 54.8 |\n",
       "| Vcells | 1150018 |  8.8 | 8388608 | 64.0 | 1769151 | 13.5 |\n",
       "\n"
      ],
      "text/plain": [
       "       used    (Mb) gc trigger (Mb) max used (Mb)\n",
       "Ncells  627750 33.6 1404611    75.1 1024906  54.8\n",
       "Vcells 1150018  8.8 8388608    64.0 1769151  13.5"
      ]
     },
     "metadata": {},
     "output_type": "display_data"
    },
    {
     "name": "stderr",
     "output_type": "stream",
     "text": [
      "Loading required package: data.table\n",
      "\n",
      "Loading required package: rlist\n",
      "\n",
      "Loading required package: rpart\n",
      "\n",
      "Loading required package: parallel\n",
      "\n",
      "Loading required package: DiceKriging\n",
      "\n",
      "Loading required package: mlrMBO\n",
      "\n",
      "Loading required package: mlr\n",
      "\n",
      "Loading required package: ParamHelpers\n",
      "\n",
      "Warning message: 'mlr' is in 'maintenance-only' mode since July 2019.\n",
      "Future development will only happen in 'mlr3'\n",
      "(<https://mlr3.mlr-org.com>). Due to the focus on 'mlr3' there might be\n",
      "uncaught bugs meanwhile in {mlr} - please consider switching.\n",
      "\n",
      "Loading required package: smoof\n",
      "\n",
      "Loading required package: checkmate\n",
      "\n",
      "\n",
      "Attaching package: 'checkmate'\n",
      "\n",
      "\n",
      "The following object is masked from 'package:DiceKriging':\n",
      "\n",
      "    checkNames\n",
      "\n",
      "\n"
     ]
    }
   ],
   "source": [
    "# Optimizacion Bayesiana de hiperparametros de  rpart\n",
    "# que va directamente contra el Public Leaderboard\n",
    "# este script AUN no entrena en un dataset con oversampling de los BAJA+2\n",
    "\n",
    "# dedicado a Federico Idoeta, Impossible is Nothing,  02-sep-2022\n",
    "\n",
    "\n",
    "# limpio la memoria\n",
    "rm(list = ls()) # remove all objects\n",
    "gc() # garbage collection\n",
    "\n",
    "require(\"data.table\")\n",
    "require(\"rlist\")\n",
    "\n",
    "require(\"rpart\")\n",
    "require(\"parallel\")\n",
    "\n",
    "# paquetes necesarios para la Bayesian Optimization\n",
    "require(\"DiceKriging\")\n",
    "require(\"mlrMBO\")\n"
   ]
  },
  {
   "cell_type": "code",
   "execution_count": 3,
   "metadata": {
    "vscode": {
     "languageId": "r"
    }
   },
   "outputs": [],
   "source": [
    "# Defino la  Optimizacion Bayesiana\n",
    "PARAM <- list()\n",
    "PARAM$experimento <- \"HT3990_correcto\"\n",
    "\n",
    "# cantidad de iteraciones de la Optimizacion Bayesiana\n",
    "PARAM$BO_iter <- 24  # iteraciones inteligentes   24= 40 - 4*4\n",
    "\n",
    "#  de los hiperparametros\n",
    "PARAM$hs <- makeParamSet(\n",
    "  makeIntegerParam(\"minsplit\", lower = 500L, upper = 1500L),\n",
    "  makeIntegerParam(\"minbucket\", lower = 200L, upper = 800L),\n",
    "  makeIntegerParam(\"maxdepth\", lower = 6L, upper = 12L),\n",
    "  makeIntegerParam(\"corte\", lower = 8000L, upper = 10000L),\n",
    "  forbidden = quote(minbucket > 0.5 * minsplit)\n",
    ")\n",
    "# minbuket NO PUEDE ser mayor que la mitad de minsplit\n",
    "\n",
    "PARAM$semilla_azar <- 364747 # primer semilla de Federico"
   ]
  },
  {
   "cell_type": "code",
   "execution_count": 4,
   "metadata": {
    "vscode": {
     "languageId": "r"
    }
   },
   "outputs": [],
   "source": [
    "#------------------------------------------------------------------------------\n",
    "\n",
    "leer_numero <- function( mensaje ) {\n",
    "  res <- readline( mensaje )\n",
    "  while( is.na( as.numeric( res ))) {\n",
    "    cat( \"Debe introducit un numero, el separador decimal es la coma\\n\" )\n",
    "    res <- readline( mensaje )\n",
    "  }\n",
    "\n",
    "  return( as.numeric(res) )\n",
    "}\n",
    "#------------------------------------------------------------------------------\n"
   ]
  },
  {
   "cell_type": "code",
   "execution_count": 5,
   "metadata": {
    "vscode": {
     "languageId": "r"
    }
   },
   "outputs": [],
   "source": [
    "leer_verificado <- function( mensaje ) {\n",
    "  repeat {\n",
    "  \n",
    "    n1 <- leer_numero( mensaje )\n",
    "    cat( \"Por favor, vuelva a cargar el mismo numero\\n\" )\n",
    "    n2 <- leer_numero( mensaje )\n",
    "\n",
    "   if( n1 != n2 )  cat( \"Los numeros no coinciden, debe volver a cargar\\n\\n\" )\n",
    "   if( n1== n2 ) break\n",
    "  }\n",
    "\n",
    "  return( n1 )\n",
    "}"
   ]
  },
  {
   "cell_type": "code",
   "execution_count": 8,
   "metadata": {
    "vscode": {
     "languageId": "r"
    }
   },
   "outputs": [],
   "source": [
    "#------------------------------------------------------------------------------\n",
    "# graba a un archivo los componentes de lista\n",
    "# para el primer registro, escribe antes los titulos\n",
    "\n",
    "loguear <- function(reg, arch = NA, folder = \"./work/\", ext = \".txt\",\n",
    "                    verbose = TRUE) {\n",
    "  archivo <- arch\n",
    "  if (is.na(arch)) archivo <- paste0(folder, substitute(reg), ext)\n",
    "\n",
    "  # Escribo los titulos\n",
    "  if (!file.exists(archivo)) {\n",
    "    linea <- paste0(\n",
    "      \"fecha\\t\",\n",
    "      paste(list.names(reg), collapse = \"\\t\"), \"\\n\"\n",
    "    )\n",
    "\n",
    "    cat(linea, file = archivo)\n",
    "  }\n",
    "\n",
    "  # la fecha y hora\n",
    "  linea <- paste0(\n",
    "    format(Sys.time(), \"%Y%m%d %H%M%S\"), \"\\t\",\n",
    "    gsub(\", \", \"\\t\", toString(reg)), \"\\n\"\n",
    "  )\n",
    "\n",
    "  # grabo al archivo\n",
    "  cat(linea, file = archivo, append = TRUE)\n",
    "\n",
    "  # imprimo por pantalla\n",
    "  if (verbose) cat(linea)\n",
    "}"
   ]
  },
  {
   "cell_type": "code",
   "execution_count": 9,
   "metadata": {
    "vscode": {
     "languageId": "r"
    }
   },
   "outputs": [],
   "source": [
    "#----------------------------------------------------------------------------\n",
    "# param tiene los hiperparametros del arbol\n",
    "\n",
    "ArbolSimple <- function( data, param, iteracion) {\n",
    "\n",
    "  param2 <- copy( param )\n",
    "  param2$cp <- -1\n",
    "  param2$minsplit <- param$minsplit \n",
    "  param2$minbucket <- param$minbucket\n",
    "  param2$corte <- param$corte\n",
    "\n",
    "  modelo <- rpart(\"clase_binaria ~ . - clase_ternaria\",\n",
    "    data = dtrain,\n",
    "    xval = 0,\n",
    "    control = param2,\n",
    "    weights = pesos\n",
    "  )\n",
    "\n",
    "  # aplico el modelo a los datos de testing\n",
    "  # aplico el modelo sobre los datos de testing\n",
    "  # quiero que me devuelva probabilidades\n",
    "  prediccion <- predict(modelo,\n",
    "    dapply,\n",
    "    type = \"prob\"\n",
    "  )\n",
    "\n",
    "  # esta es la probabilidad de baja\n",
    "  prob_baja <- prediccion[, \"POS\"]\n",
    "\n",
    "  tablita <- copy( dapply[, list(numero_de_cliente) ] )\n",
    "  tablita[ , prob := prob_baja ]\n",
    "  setorder( tablita, -prob )\n",
    "\n",
    "  # grabo el submit a Kaggle\n",
    "  tablita[ , Predicted := 0L ]\n",
    "  tablita[ 1:param2$corte, Predicted := 1L ]\n",
    "\n",
    "  nom_submit <- paste0(\"z399_\", sprintf( \"%03d\", iteracion ), \".csv\" )\n",
    "  fwrite( tablita[ , list(numero_de_cliente, Predicted)],\n",
    "          file= nom_submit,\n",
    "          sep= \",\" )\n",
    "\n",
    "  # solicito que el humano a cargo ingrese la ganancia publica\n",
    "  mensaje <- paste0( \"haga el submit a Kaggle de \", nom_submit,\n",
    "                     \" y cargue la ganancia publica : \" )\n",
    "\n",
    "  ganancia_public <- leer_verificado( mensaje )\n",
    "\n",
    "  return(ganancia_public)\n",
    "}\n",
    "#------------------------------------------------------------------------------"
   ]
  },
  {
   "cell_type": "code",
   "execution_count": 10,
   "metadata": {
    "vscode": {
     "languageId": "r"
    }
   },
   "outputs": [],
   "source": [
    "# esta funcion solo puede recibir los parametros que se estan optimizando\n",
    "# el resto de los parametros, lamentablemente se pasan como variables globales\n",
    "\n",
    "EstimarGanancia <- function(x) {\n",
    "  GLOBAL_iteracion <<- GLOBAL_iteracion + 1\n",
    "\n",
    "  # x los hiperparametros del arbol\n",
    "  ganancia_public <- ArbolSimple( dtrain, x, GLOBAL_iteracion )\n",
    "\n",
    "  # logueo\n",
    "  xx <- x\n",
    "  xx$cp <- -1\n",
    "  xx$ganancia <- ganancia_public\n",
    "  xx$iteracion <- GLOBAL_iteracion\n",
    "  loguear(xx, arch = archivo_log)\n",
    "\n",
    "  # para que mlrMBO tenga todo reseteado\n",
    "  set.seed( PARAM$semilla_azar )\n",
    "\n",
    "  return(ganancia_public)\n",
    "}"
   ]
  },
  {
   "cell_type": "code",
   "execution_count": 11,
   "metadata": {
    "vscode": {
     "languageId": "r"
    }
   },
   "outputs": [],
   "source": [
    "# Aqui empieza el programa\n",
    "\n",
    "# Establezco el Working Directory\n",
    "setwd(\"C:\\\\Users\\\\flore\\\\Desktop\\\\dmef\\\\datasets\\\\\")\n"
   ]
  },
  {
   "cell_type": "code",
   "execution_count": 12,
   "metadata": {
    "vscode": {
     "languageId": "r"
    }
   },
   "outputs": [],
   "source": [
    "# cargo los datos\n",
    "dataset <- fread(\"./competencia_01_clase_ternaria.csv\")\n",
    "dataset <- subset(dataset, select = -count)"
   ]
  },
  {
   "cell_type": "code",
   "execution_count": 13,
   "metadata": {
    "vscode": {
     "languageId": "r"
    }
   },
   "outputs": [
    {
     "data": {
      "text/html": [
       "<style>\n",
       ".list-inline {list-style: none; margin:0; padding: 0}\n",
       ".list-inline>li {display: inline-block}\n",
       ".list-inline>li:not(:last-child)::after {content: \"\\00b7\"; padding: 0 .5ex}\n",
       "</style>\n",
       "<ol class=list-inline><li>491063</li><li>155</li></ol>\n"
      ],
      "text/latex": [
       "\\begin{enumerate*}\n",
       "\\item 491063\n",
       "\\item 155\n",
       "\\end{enumerate*}\n"
      ],
      "text/markdown": [
       "1. 491063\n",
       "2. 155\n",
       "\n",
       "\n"
      ],
      "text/plain": [
       "[1] 491063    155"
      ]
     },
     "metadata": {},
     "output_type": "display_data"
    }
   ],
   "source": [
    "dim(dataset)"
   ]
  },
  {
   "cell_type": "code",
   "execution_count": 14,
   "metadata": {
    "vscode": {
     "languageId": "r"
    }
   },
   "outputs": [],
   "source": [
    "# defino la clase_binaria2\n",
    "dataset[ , clase_binaria := ifelse( clase_ternaria==\"CONTINUA\", \"NEG\", \"POS\" ) ]\n",
    "\n",
    "dtrain <- dataset[foto_mes==202103]\n",
    "dapply <- dataset[foto_mes==202105]\n",
    "\n",
    "# definicion vector de pesos para oversampling\n",
    "pesos <- copy( dtrain[, ifelse( clase_ternaria==\"CONTINUA\",   1.0, 100.0  ) ] )"
   ]
  },
  {
   "cell_type": "code",
   "execution_count": 15,
   "metadata": {
    "vscode": {
     "languageId": "r"
    }
   },
   "outputs": [],
   "source": [
    "# creo la carpeta donde va el experimento\n",
    "#  HT  representa  Hiperparameter Tuning\n",
    "dir.create(\"./exp/\", showWarnings = FALSE)\n",
    "dir.create( paste0(\"./exp/\", PARAM$experimento, \"/\"), \n",
    "           showWarnings = FALSE)\n",
    "\n",
    "# Establezco el Working Directory DEL EXPERIMENTO\n",
    "setwd( paste0(\"./exp/\", PARAM$experimento, \"/\") )\n",
    "\n",
    "\n",
    "# en estos archivos quedan los resultados\n",
    "archivo_log <- \"BO_log_OS.txt\"\n",
    "archivo_BO <- \"bayesian_OS.RDATA\"\n"
   ]
  },
  {
   "cell_type": "code",
   "execution_count": 16,
   "metadata": {
    "vscode": {
     "languageId": "r"
    }
   },
   "outputs": [],
   "source": [
    "# leo si ya existe el log\n",
    "#  para retomar en caso que se se corte el programa\n",
    "GLOBAL_iteracion <- 0\n",
    "\n",
    "if (file.exists(archivo_log)) {\n",
    "  tabla_log <- fread(archivo_log)\n",
    "  GLOBAL_iteracion <- nrow(tabla_log)\n",
    "}\n",
    "\n",
    "\n"
   ]
  },
  {
   "cell_type": "code",
   "execution_count": 17,
   "metadata": {
    "vscode": {
     "languageId": "r"
    }
   },
   "outputs": [
    {
     "name": "stderr",
     "output_type": "stream",
     "text": [
      "Computing y column(s) for design. Not provided.\n",
      "\n"
     ]
    },
    {
     "name": "stdout",
     "output_type": "stream",
     "text": [
      "Por favor, vuelva a cargar el mismo numero\n",
      "20230910 212006\t911\t396\t9\t9225\t-1\t64.98281\t1\n",
      "Por favor, vuelva a cargar el mismo numero\n",
      "20230910 212041\t1405\t610\t8\t9860\t-1\t62.3695\t2\n",
      "Por favor, vuelva a cargar el mismo numero\n",
      "20230910 212242\t1307\t650\t11\t8932\t-1\t65.47281\t3\n",
      "Por favor, vuelva a cargar el mismo numero\n",
      "20230910 212316\t773\t347\t11\t9283\t-1\t65.16948\t4\n",
      "Por favor, vuelva a cargar el mismo numero\n",
      "20230910 212353\t1038\t454\t8\t8716\t-1\t63.53616\t5\n",
      "Por favor, vuelva a cargar el mismo numero\n",
      "20230910 212424\t652\t201\t6\t8571\t-1\t54.1329\t6\n",
      "Por favor, vuelva a cargar el mismo numero\n",
      "20230910 212500\t1459\t362\t7\t9001\t-1\t60.45618\t7\n",
      "Por favor, vuelva a cargar el mismo numero\n",
      "20230910 212537\t1198\t287\t11\t8202\t-1\t59.24286\t8\n",
      "Por favor, vuelva a cargar el mismo numero\n",
      "20230910 212617\t1096\t467\t10\t9602\t-1\t65.37948\t9\n",
      "Por favor, vuelva a cargar el mismo numero\n",
      "20230910 212652\t1132\t483\t8\t8019\t-1\t60.57285\t10\n",
      "Por favor, vuelva a cargar el mismo numero\n",
      "20230910 212724\t1232\t436\t6\t8640\t-1\t56.39621\t11\n",
      "Por favor, vuelva a cargar el mismo numero\n",
      "20230910 212802\t671\t237\t9\t9731\t-1\t59.66285\t12\n",
      "Por favor, vuelva a cargar el mismo numero\n",
      "20230910 212838\t1370\t592\t12\t9458\t-1\t61.38951\t13\n",
      "Por favor, vuelva a cargar el mismo numero\n",
      "20230910 212914\t1332\t349\t10\t9712\t-1\t62.6495\t14\n",
      "Por favor, vuelva a cargar el mismo numero\n",
      "20230910 212948\t1416\t327\t7\t8938\t-1\t57.5862\t15\n",
      "Por favor, vuelva a cargar el mismo numero\n",
      "20230910 213023\t864\t273\t11\t8888\t-1\t65.12281\t16\n"
     ]
    },
    {
     "name": "stderr",
     "output_type": "stream",
     "text": [
      "[mbo] 0: minsplit=911; minbucket=396; maxdepth=9; corte=9225 : y = 65 : 66.5 secs : initdesign\n",
      "\n",
      "[mbo] 0: minsplit=1405; minbucket=610; maxdepth=8; corte=9860 : y = 62.4 : 35.2 secs : initdesign\n",
      "\n",
      "[mbo] 0: minsplit=1307; minbucket=650; maxdepth=11; corte=8932 : y = 65.5 : 121.2 secs : initdesign\n",
      "\n",
      "[mbo] 0: minsplit=773; minbucket=347; maxdepth=11; corte=9283 : y = 65.2 : 34.3 secs : initdesign\n",
      "\n",
      "[mbo] 0: minsplit=1038; minbucket=454; maxdepth=8; corte=8716 : y = 63.5 : 37.0 secs : initdesign\n",
      "\n",
      "[mbo] 0: minsplit=652; minbucket=201; maxdepth=6; corte=8571 : y = 54.1 : 31.1 secs : initdesign\n",
      "\n",
      "[mbo] 0: minsplit=1459; minbucket=362; maxdepth=7; corte=9001 : y = 60.5 : 35.5 secs : initdesign\n",
      "\n",
      "[mbo] 0: minsplit=1198; minbucket=287; maxdepth=11; corte=8202 : y = 59.2 : 37.4 secs : initdesign\n",
      "\n",
      "[mbo] 0: minsplit=1096; minbucket=467; maxdepth=10; corte=9602 : y = 65.4 : 39.8 secs : initdesign\n",
      "\n",
      "[mbo] 0: minsplit=1132; minbucket=483; maxdepth=8; corte=8019 : y = 60.6 : 35.2 secs : initdesign\n",
      "\n",
      "[mbo] 0: minsplit=1232; minbucket=436; maxdepth=6; corte=8640 : y = 56.4 : 31.7 secs : initdesign\n",
      "\n",
      "[mbo] 0: minsplit=671; minbucket=237; maxdepth=9; corte=9731 : y = 59.7 : 38.5 secs : initdesign\n",
      "\n",
      "[mbo] 0: minsplit=1370; minbucket=592; maxdepth=12; corte=9458 : y = 61.4 : 36.0 secs : initdesign\n",
      "\n",
      "[mbo] 0: minsplit=1332; minbucket=349; maxdepth=10; corte=9712 : y = 62.6 : 35.5 secs : initdesign\n",
      "\n",
      "[mbo] 0: minsplit=1416; minbucket=327; maxdepth=7; corte=8938 : y = 57.6 : 34.6 secs : initdesign\n",
      "\n",
      "[mbo] 0: minsplit=864; minbucket=273; maxdepth=11; corte=8888 : y = 65.1 : 35.0 secs : initdesign\n",
      "\n",
      "Saved the current state after iteration 1 in the file bayesian_OS.RDATA.\n",
      "\n"
     ]
    },
    {
     "name": "stdout",
     "output_type": "stream",
     "text": [
      "Por favor, vuelva a cargar el mismo numero\n",
      "20230910 213101\t984\t492\t10\t9696\t-1\t62.62616\t17\n"
     ]
    },
    {
     "name": "stderr",
     "output_type": "stream",
     "text": [
      "[mbo] 1: minsplit=984; minbucket=492; maxdepth=10; corte=9696 : y = 62.6 : 36.1 secs : infill_ei\n",
      "\n"
     ]
    },
    {
     "name": "stdout",
     "output_type": "stream",
     "text": [
      "Por favor, vuelva a cargar el mismo numero\n",
      "20230910 213143\t855\t381\t11\t9059\t-1\t68.15612\t18\n"
     ]
    },
    {
     "name": "stderr",
     "output_type": "stream",
     "text": [
      "[mbo] 2: minsplit=855; minbucket=381; maxdepth=11; corte=9059 : y = 68.2 : 39.8 secs : infill_ei\n",
      "\n"
     ]
    },
    {
     "name": "stdout",
     "output_type": "stream",
     "text": [
      "Por favor, vuelva a cargar el mismo numero\n",
      "20230910 213227\t1158\t460\t10\t9024\t-1\t64.25948\t19\n"
     ]
    },
    {
     "name": "stderr",
     "output_type": "stream",
     "text": [
      "[mbo] 3: minsplit=1158; minbucket=460; maxdepth=10; corte=9024 : y = 64.3 : 42.8 secs : infill_ei\n",
      "\n"
     ]
    },
    {
     "name": "stdout",
     "output_type": "stream",
     "text": [
      "Por favor, vuelva a cargar el mismo numero\n",
      "20230910 213428\t877\t385\t12\t8775\t-1\t64.65615\t20\n"
     ]
    },
    {
     "name": "stderr",
     "output_type": "stream",
     "text": [
      "[mbo] 4: minsplit=877; minbucket=385; maxdepth=12; corte=8775 : y = 64.7 : 120.3 secs : infill_ei\n",
      "\n"
     ]
    },
    {
     "name": "stdout",
     "output_type": "stream",
     "text": [
      "Por favor, vuelva a cargar el mismo numero\n",
      "20230910 213605\t847\t394\t10\t8857\t-1\t67.31613\t21\n"
     ]
    },
    {
     "name": "stderr",
     "output_type": "stream",
     "text": [
      "[mbo] 5: minsplit=847; minbucket=394; maxdepth=10; corte=8857 : y = 67.3 : 94.5 secs : infill_ei\n",
      "\n"
     ]
    },
    {
     "name": "stdout",
     "output_type": "stream",
     "text": [
      "Por favor, vuelva a cargar el mismo numero\n",
      "20230910 213739\t853\t386\t11\t9805\t-1\t69.69611\t22\n"
     ]
    },
    {
     "name": "stderr",
     "output_type": "stream",
     "text": [
      "[mbo] 6: minsplit=853; minbucket=386; maxdepth=11; corte=9805 : y = 69.7 : 93.1 secs : infill_ei\n",
      "\n"
     ]
    },
    {
     "name": "stdout",
     "output_type": "stream",
     "text": [
      "Por favor, vuelva a cargar el mismo numero\n",
      "20230910 213906\t841\t417\t11\t9999\t-1\t68.52945\t23\n"
     ]
    },
    {
     "name": "stderr",
     "output_type": "stream",
     "text": [
      "[mbo] 7: minsplit=841; minbucket=417; maxdepth=11; corte=9999 : y = 68.5 : 85.0 secs : infill_ei\n",
      "\n"
     ]
    },
    {
     "name": "stdout",
     "output_type": "stream",
     "text": [
      "Por favor, vuelva a cargar el mismo numero\n",
      "20230910 214023\t854\t364\t11\t9999\t-1\t67.71279\t24\n"
     ]
    },
    {
     "name": "stderr",
     "output_type": "stream",
     "text": [
      "[mbo] 8: minsplit=854; minbucket=364; maxdepth=11; corte=9999 : y = 67.7 : 75.5 secs : infill_ei\n",
      "\n"
     ]
    },
    {
     "name": "stdout",
     "output_type": "stream",
     "text": [
      "Por favor, vuelva a cargar el mismo numero\n",
      "20230910 214134\t958\t394\t11\t9996\t-1\t65.44948\t25\n"
     ]
    },
    {
     "name": "stderr",
     "output_type": "stream",
     "text": [
      "[mbo] 9: minsplit=958; minbucket=394; maxdepth=11; corte=9996 : y = 65.4 : 70.7 secs : infill_ei\n",
      "\n",
      "Saved the current state after iteration 10 in the file bayesian_OS.RDATA.\n",
      "\n"
     ]
    },
    {
     "name": "stdout",
     "output_type": "stream",
     "text": [
      "Por favor, vuelva a cargar el mismo numero\n",
      "20230910 214348\t824\t392\t11\t9833\t-1\t69.43944\t26\n"
     ]
    },
    {
     "name": "stderr",
     "output_type": "stream",
     "text": [
      "[mbo] 10: minsplit=824; minbucket=392; maxdepth=11; corte=9833 : y = 69.4 : 132.0 secs : infill_ei\n",
      "\n"
     ]
    },
    {
     "name": "stdout",
     "output_type": "stream",
     "text": [
      "Por favor, vuelva a cargar el mismo numero\n",
      "20230910 214509\t852\t395\t11\t9845\t-1\t69.39278\t27\n"
     ]
    },
    {
     "name": "stderr",
     "output_type": "stream",
     "text": [
      "[mbo] 11: minsplit=852; minbucket=395; maxdepth=11; corte=9845 : y = 69.4 : 79.6 secs : infill_ei\n",
      "\n"
     ]
    },
    {
     "name": "stdout",
     "output_type": "stream",
     "text": [
      "Por favor, vuelva a cargar el mismo numero\n",
      "20230910 214640\t842\t385\t10\t9844\t-1\t69.48611\t28\n"
     ]
    },
    {
     "name": "stderr",
     "output_type": "stream",
     "text": [
      "[mbo] 12: minsplit=842; minbucket=385; maxdepth=10; corte=9844 : y = 69.5 : 89.5 secs : infill_ei\n",
      "\n"
     ]
    }
   ],
   "source": [
    "# Aqui comienza la configuracion de la Bayesian Optimization\n",
    "\n",
    "funcion_optimizar <- EstimarGanancia\n",
    "\n",
    "configureMlr(show.learner.output = FALSE)\n",
    "\n",
    "# configuro la busqueda bayesiana,\n",
    "#  los hiperparametros que se van a optimizar\n",
    "# por favor, no desesperarse por lo complejo\n",
    "# minimize= FALSE estoy Maximizando la ganancia\n",
    "obj.fun <- makeSingleObjectiveFunction(\n",
    "  fn = funcion_optimizar,\n",
    "  minimize = FALSE,\n",
    "  noisy = TRUE,\n",
    "  par.set = PARAM$hs,\n",
    "  has.simple.signature = FALSE\n",
    ")\n",
    "\n",
    "ctrl <- makeMBOControl(\n",
    "  save.on.disk.at.time = 600,\n",
    "  save.file.path = archivo_BO\n",
    ")\n",
    "\n",
    "ctrl <- setMBOControlTermination(ctrl, iters = PARAM$BO_iter)\n",
    "ctrl <- setMBOControlInfill(ctrl,  crit = makeMBOInfillCritEI())\n",
    "\n",
    "surr.km <- makeLearner(\"regr.km\",\n",
    "  predict.type = \"se\",\n",
    "  covtype = \"matern3_2\", control = list(trace = TRUE)\n",
    ")\n",
    "\n",
    "\n",
    "# para que mlrMBO tenga todo reseteado\n",
    "set.seed( PARAM$semilla_azar )\n",
    "\n",
    "# inicio la optimizacion bayesiana\n",
    "if (!file.exists(archivo_BO)) {\n",
    "  run <- mbo(\n",
    "    fun = obj.fun,\n",
    "    learner = surr.km,\n",
    "    control = ctrl\n",
    "  )\n",
    "} else {\n",
    "  run <- mboContinue(archivo_BO)\n",
    "}\n",
    "# retomo en caso que ya exista"
   ]
  }
 ],
 "metadata": {
  "kernelspec": {
   "display_name": "R",
   "language": "R",
   "name": "ir"
  },
  "language_info": {
   "codemirror_mode": "r",
   "file_extension": ".r",
   "mimetype": "text/x-r-source",
   "name": "R",
   "pygments_lexer": "r",
   "version": "4.3.1"
  },
  "orig_nbformat": 4
 },
 "nbformat": 4,
 "nbformat_minor": 2
}
