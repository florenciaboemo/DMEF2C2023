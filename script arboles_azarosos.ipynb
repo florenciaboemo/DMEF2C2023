{
 "cells": [
  {
   "cell_type": "code",
   "execution_count": 1,
   "metadata": {
    "vscode": {
     "languageId": "r"
    }
   },
   "outputs": [
    {
     "data": {
      "text/html": [
       "<table class=\"dataframe\">\n",
       "<caption>A matrix: 2 × 6 of type dbl</caption>\n",
       "<thead>\n",
       "\t<tr><th></th><th scope=col>used</th><th scope=col>(Mb)</th><th scope=col>gc trigger</th><th scope=col>(Mb)</th><th scope=col>max used</th><th scope=col>(Mb)</th></tr>\n",
       "</thead>\n",
       "<tbody>\n",
       "\t<tr><th scope=row>Ncells</th><td> 631924</td><td>33.8</td><td>1412201</td><td>75.5</td><td> 994245</td><td>53.1</td></tr>\n",
       "\t<tr><th scope=row>Vcells</th><td>1170584</td><td> 9.0</td><td>8388608</td><td>64.0</td><td>1815598</td><td>13.9</td></tr>\n",
       "</tbody>\n",
       "</table>\n"
      ],
      "text/latex": [
       "A matrix: 2 × 6 of type dbl\n",
       "\\begin{tabular}{r|llllll}\n",
       "  & used & (Mb) & gc trigger & (Mb) & max used & (Mb)\\\\\n",
       "\\hline\n",
       "\tNcells &  631924 & 33.8 & 1412201 & 75.5 &  994245 & 53.1\\\\\n",
       "\tVcells & 1170584 &  9.0 & 8388608 & 64.0 & 1815598 & 13.9\\\\\n",
       "\\end{tabular}\n"
      ],
      "text/markdown": [
       "\n",
       "A matrix: 2 × 6 of type dbl\n",
       "\n",
       "| <!--/--> | used | (Mb) | gc trigger | (Mb) | max used | (Mb) |\n",
       "|---|---|---|---|---|---|---|\n",
       "| Ncells |  631924 | 33.8 | 1412201 | 75.5 |  994245 | 53.1 |\n",
       "| Vcells | 1170584 |  9.0 | 8388608 | 64.0 | 1815598 | 13.9 |\n",
       "\n"
      ],
      "text/plain": [
       "       used    (Mb) gc trigger (Mb) max used (Mb)\n",
       "Ncells  631924 33.8 1412201    75.5  994245  53.1\n",
       "Vcells 1170584  9.0 8388608    64.0 1815598  13.9"
      ]
     },
     "metadata": {},
     "output_type": "display_data"
    },
    {
     "name": "stderr",
     "output_type": "stream",
     "text": [
      "Loading required package: data.table\n",
      "\n",
      "Loading required package: rpart\n",
      "\n"
     ]
    }
   ],
   "source": [
    "# Ensemble de arboles de decision\n",
    "# utilizando el naif metodo de Arboles Azarosos\n",
    "# entreno cada arbol utilizando un subset distinto de atributos del dataset\n",
    "\n",
    "# limpio la memoria\n",
    "rm(list = ls()) # Borro todos los objetos\n",
    "gc() # Garbage Collection\n",
    "\n",
    "require(\"data.table\")\n",
    "require(\"rpart\")"
   ]
  },
  {
   "cell_type": "code",
   "execution_count": 2,
   "metadata": {
    "vscode": {
     "languageId": "r"
    }
   },
   "outputs": [],
   "source": [
    "# parmatros experimento\n",
    "PARAM <- list()\n",
    "PARAM$experimento <- 5210\n",
    "\n",
    "# Establezco la semilla aleatoria, cambiar por SU primer semilla\n",
    "PARAM$semilla <- 364747\n",
    "\n",
    "# parameetros rpart\n",
    "PARAM$rpart_param <- list(\n",
    "  \"cp\" = -1,\n",
    "  \"minsplit\" = 250,\n",
    "  \"minbucket\" = 100,\n",
    "  \"maxdepth\" = 14\n",
    ")\n",
    "\n",
    "# parametros  arbol\n",
    "# entreno cada arbol con solo 50% de las variables variables\n",
    "PARAM$feature_fraction <- 0.5\n",
    "# voy a generar 500 arboles,\n",
    "#  a mas arboles mas tiempo de proceso y MEJOR MODELO,\n",
    "#  pero ganancias marginales\n",
    "PARAM$num_trees_max <- 500\n",
    "\n"
   ]
  },
  {
   "cell_type": "code",
   "execution_count": 3,
   "metadata": {
    "vscode": {
     "languageId": "r"
    }
   },
   "outputs": [],
   "source": [
    "#------------------------------------------------------------------------------\n",
    "#------------------------------------------------------------------------------\n",
    "# Aqui comienza el programa\n",
    "\n",
    "setwd(\"~/buckets/b1/\") # Establezco el Working Directory\n",
    "\n",
    "# cargo los datos\n",
    "dataset <- fread(\"./datasets/competencia_02_julia.csv\")\n",
    "\n",
    "\n",
    "# creo la carpeta donde va el experimento\n",
    "dir.create(\"./exp/\", showWarnings = FALSE)\n",
    "carpeta_experimento <- paste0(\"./exp/KA\", PARAM$experimento, \"/\")\n",
    "dir.create(paste0(\"./exp/KA\", PARAM$experimento, \"/\"),\n",
    "  showWarnings = FALSE\n",
    ")\n",
    "\n",
    "setwd(carpeta_experimento)\n"
   ]
  },
  {
   "cell_type": "code",
   "execution_count": 4,
   "metadata": {
    "vscode": {
     "languageId": "r"
    }
   },
   "outputs": [
    {
     "data": {
      "text/html": [
       "<table class=\"dataframe\">\n",
       "<caption>A matrix: 2 × 6 of type dbl</caption>\n",
       "<thead>\n",
       "\t<tr><th></th><th scope=col>used</th><th scope=col>(Mb)</th><th scope=col>gc trigger</th><th scope=col>(Mb)</th><th scope=col>max used</th><th scope=col>(Mb)</th></tr>\n",
       "</thead>\n",
       "<tbody>\n",
       "\t<tr><th scope=row>Ncells</th><td>  700607</td><td> 37.5</td><td>  1412201</td><td>  75.5</td><td>  1412201</td><td>  75.5</td></tr>\n",
       "\t<tr><th scope=row>Vcells</th><td>38986782</td><td>297.5</td><td>640206513</td><td>4884.4</td><td>695546841</td><td>5306.7</td></tr>\n",
       "</tbody>\n",
       "</table>\n"
      ],
      "text/latex": [
       "A matrix: 2 × 6 of type dbl\n",
       "\\begin{tabular}{r|llllll}\n",
       "  & used & (Mb) & gc trigger & (Mb) & max used & (Mb)\\\\\n",
       "\\hline\n",
       "\tNcells &   700607 &  37.5 &   1412201 &   75.5 &   1412201 &   75.5\\\\\n",
       "\tVcells & 38986782 & 297.5 & 640206513 & 4884.4 & 695546841 & 5306.7\\\\\n",
       "\\end{tabular}\n"
      ],
      "text/markdown": [
       "\n",
       "A matrix: 2 × 6 of type dbl\n",
       "\n",
       "| <!--/--> | used | (Mb) | gc trigger | (Mb) | max used | (Mb) |\n",
       "|---|---|---|---|---|---|---|\n",
       "| Ncells |   700607 |  37.5 |   1412201 |   75.5 |   1412201 |   75.5 |\n",
       "| Vcells | 38986782 | 297.5 | 640206513 | 4884.4 | 695546841 | 5306.7 |\n",
       "\n"
      ],
      "text/plain": [
       "       used     (Mb)  gc trigger (Mb)   max used  (Mb)  \n",
       "Ncells   700607  37.5   1412201    75.5   1412201   75.5\n",
       "Vcells 38986782 297.5 640206513  4884.4 695546841 5306.7"
      ]
     },
     "metadata": {},
     "output_type": "display_data"
    }
   ],
   "source": [
    "\n",
    "# que tamanos de ensemble grabo a disco, pero siempre debo generar los 500\n",
    "grabar <- c(1, 5, 10, 50, 100, 200, 500)\n",
    "\n",
    "\n",
    "# defino los dataset de entrenamiento y aplicacion\n",
    "dtrain <- dataset[foto_mes == 202105]\n",
    "dapply <- dataset[foto_mes == 202107]\n",
    "\n",
    "# arreglo clase_ternaria por algun distraido \"\"\n",
    "dapply[, clase_ternaria := NA ]\n",
    "\n",
    "# elimino lo que ya no utilizo\n",
    "rm(dataset)\n",
    "gc()\n"
   ]
  },
  {
   "cell_type": "code",
   "execution_count": 5,
   "metadata": {
    "vscode": {
     "languageId": "r"
    }
   },
   "outputs": [
    {
     "name": "stdout",
     "output_type": "stream",
     "text": [
      "1  5  10  50  100  200  500  "
     ]
    }
   ],
   "source": [
    "# aqui se va acumulando la probabilidad del ensemble\n",
    "dapply[, prob_acumulada := 0]\n",
    "\n",
    "# Establezco cuales son los campos que puedo usar para la prediccion\n",
    "# el copy() es por la Lazy Evaluation\n",
    "campos_buenos <- copy(setdiff(colnames(dtrain), c(\"clase_ternaria\")))\n",
    "\n",
    "\n",
    "\n",
    "# Genero las salidas\n",
    "set.seed(PARAM$semilla) # Establezco la semilla aleatoria\n",
    "\n",
    "for (arbolito in 1:PARAM$num_trees_max) {\n",
    "  qty_campos_a_utilizar <- as.integer(length(campos_buenos)\n",
    "  * PARAM$feature_fraction)\n",
    "\n",
    "  campos_random <- sample(campos_buenos, qty_campos_a_utilizar)\n",
    "\n",
    "  # paso de un vector a un string con los elementos\n",
    "  # separados por un signo de \"+\"\n",
    "  # este hace falta para la formula\n",
    "  campos_random <- paste(campos_random, collapse = \" + \")\n",
    "\n",
    "  # armo la formula para rpart\n",
    "  formulita <- paste0(\"clase_ternaria ~ \", campos_random)\n",
    "\n",
    "  # genero el arbol de decision\n",
    "  modelo <- rpart(formulita,\n",
    "    data = dtrain,\n",
    "    xval = 0,\n",
    "    control = PARAM$rpart_param\n",
    "  )\n",
    "\n",
    "  # aplico el modelo a los datos que no tienen clase\n",
    "  prediccion <- predict(modelo, dapply, type = \"prob\")\n",
    "\n",
    "  dapply[, prob_acumulada := prob_acumulada + prediccion[, \"BAJA+2\"]]\n",
    "\n",
    "  if (arbolito %in% grabar) {\n",
    "    # Genero la entrega para Kaggle\n",
    "    umbral_corte <- (1 / 40) * arbolito\n",
    "    entrega <- as.data.table(list(\n",
    "      \"numero_de_cliente\" = dapply[, numero_de_cliente],\n",
    "      \"Predicted\" = as.numeric(dapply[, prob_acumulada] > umbral_corte)\n",
    "    )) # genero la salida\n",
    "\n",
    "    nom_arch <- paste0(\n",
    "      \"KA\", PARAM$experimento, \"_\",\n",
    "      sprintf(\"%.3d\", arbolito), # para que tenga ceros adelante\n",
    "      \".csv\"\n",
    "    )\n",
    "    fwrite(entrega,\n",
    "      file = nom_arch,\n",
    "      sep = \",\"\n",
    "    )\n",
    "\n",
    "    cat(arbolito, \" \")\n",
    "  }\n",
    "}\n"
   ]
  }
 ],
 "metadata": {
  "kernelspec": {
   "display_name": "R",
   "language": "R",
   "name": "ir"
  },
  "language_info": {
   "codemirror_mode": "r",
   "file_extension": ".r",
   "mimetype": "text/x-r-source",
   "name": "R",
   "pygments_lexer": "r",
   "version": "4.3.1"
  },
  "orig_nbformat": 4
 },
 "nbformat": 4,
 "nbformat_minor": 2
}
